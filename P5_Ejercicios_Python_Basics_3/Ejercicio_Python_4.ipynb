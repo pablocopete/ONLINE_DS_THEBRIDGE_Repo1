{
 "cells": [
  {
   "cell_type": "markdown",
   "id": "e6ae08ee-6a27-4c64-b23d-e01ba18ca32f",
   "metadata": {},
   "source": [
    "# Practica obligatoria Python"
   ]
  },
  {
   "cell_type": "markdown",
   "id": "71a4f6f8-7693-46c3-9a53-9a2c00d39ebb",
   "metadata": {},
   "source": [
    "## Parte I"
   ]
  },
  {
   "cell_type": "code",
   "execution_count": 5,
   "id": "f013fa58-1f19-4a10-9a8f-b3c0cebc25a8",
   "metadata": {},
   "outputs": [
    {
     "name": "stdin",
     "output_type": "stream",
     "text": [
      "Buenas tardes, bienvenido al servicio de pedido online, el precio de nuestra pizzas es de 8,95 para la familiar o de 9,90 para la mediana ¿Cuántas pizzas familiares desea? 10\n",
      "Estupendo, ¿cuántas pizzas medianas desea? 5\n",
      "Estupendo, se están preparando 10 pizzas familiares y 5 pizzas medianas. Digame su dirección pl\n"
     ]
    },
    {
     "name": "stdout",
     "output_type": "stream",
     "text": [
      "Le mandaremos las 15 pizzas a la dirección pl. Serán . Muchas gracias por su pedido.\n"
     ]
    }
   ],
   "source": [
    "# Chatbot\n",
    "pizz_familiar = input('Buenas tardes, bienvenido al servicio de pedido online, el precio de nuestra pizzas es de 8,95 para la familiar o de 9,90 para la mediana ¿Cuántas pizzas familiares desea?')\n",
    "pizz_mediana = input(\"Estupendo, ¿cuántas pizzas medianas desea?\")\n",
    "direcc = input(f'Estupendo, se están preparando {pizz_familiar} pizzas familiares y {pizz_mediana} pizzas medianas. Digame su dirección')\n",
    "print(f'Le mandaremos las {int(pizz_familiar) + int(pizz_mediana)} pizzas a la dirección {direcc}. Serán . Muchas gracias por su pedido.')"
   ]
  },
  {
   "cell_type": "markdown",
   "id": "6a9a7f53-7dda-4748-b702-5b053fb6f481",
   "metadata": {},
   "source": [
    "## Parte II"
   ]
  },
  {
   "cell_type": "code",
   "execution_count": 27,
   "id": "fe223527-dfc6-4232-b5dd-c53b2ef862f0",
   "metadata": {},
   "outputs": [
    {
     "name": "stdin",
     "output_type": "stream",
     "text": [
      "Introduzca 3 números separados por comas y sin espacios 5, 4, 3\n"
     ]
    },
    {
     "name": "stdout",
     "output_type": "stream",
     "text": [
      "['5', ' 4', ' 3']\n",
      "Número max: 5, número mín: 3, suma: 12\n",
      "False\n"
     ]
    }
   ],
   "source": [
    "frase = input('Introduzca 3 números separados por comas y sin espacios')\n",
    "lista = frase.split(',')\n",
    "print(lista)\n",
    "\n",
    "for i in range(len(lista)):\n",
    "    lista[i] = int(lista[i])\n",
    "    \n",
    "print(f'Número max: {max(lista)}, número mín: {min(lista)}, suma: {sum(lista)}')\n",
    "\n",
    "certeza = ( (max(lista) - min(lista)) == (sum(lista)/5) )\n",
    "print(certeza)"
   ]
  },
  {
   "cell_type": "code",
   "execution_count": null,
   "id": "f1d046ef-bbe1-47ad-b84b-9a7b4a632bd7",
   "metadata": {},
   "outputs": [],
   "source": []
  }
 ],
 "metadata": {
  "kernelspec": {
   "display_name": "Python 3 (ipykernel)",
   "language": "python",
   "name": "python3"
  },
  "language_info": {
   "codemirror_mode": {
    "name": "ipython",
    "version": 3
   },
   "file_extension": ".py",
   "mimetype": "text/x-python",
   "name": "python",
   "nbconvert_exporter": "python",
   "pygments_lexer": "ipython3",
   "version": "3.12.9"
  }
 },
 "nbformat": 4,
 "nbformat_minor": 5
}
