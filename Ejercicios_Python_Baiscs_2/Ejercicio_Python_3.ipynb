{
 "cells": [
  {
   "cell_type": "markdown",
   "id": "f37a64d5-9a8d-461b-a322-c0622cbbe998",
   "metadata": {},
   "source": [
    "# Funciones, métodos, listas"
   ]
  },
  {
   "cell_type": "markdown",
   "id": "78a7853a-af48-4ae3-a3bf-47ed95860c26",
   "metadata": {},
   "source": [
    "## Ejercicio 1"
   ]
  },
  {
   "cell_type": "code",
   "execution_count": 3,
   "id": "6e83f49d-0ce9-407f-89de-ee9c3ef421b2",
   "metadata": {},
   "outputs": [
    {
     "name": "stdout",
     "output_type": "stream",
     "text": [
      "8\n",
      "17 63.45\n"
     ]
    }
   ],
   "source": [
    "lista = [4, 6, 8, -1]\n",
    "print(max(lista))\n",
    "suma = sum(lista)\n",
    "redondeo = round(63.451256965, 2)\n",
    "print(suma, redondeo)"
   ]
  },
  {
   "cell_type": "markdown",
   "id": "8e6cbbfd-ef4d-4726-b637-d66c20fbbc38",
   "metadata": {},
   "source": [
    "## Ejercicio 2"
   ]
  },
  {
   "cell_type": "code",
   "execution_count": 13,
   "id": "95eaf95f-0834-4259-be31-3c79d0252bd0",
   "metadata": {},
   "outputs": [
    {
     "name": "stdout",
     "output_type": "stream",
     "text": [
      "EN UN LUGAR DE LA MANCHA, DE CUYO NOMBRE NO QUIERO ACORDARME\n",
      "en un lugar de la mancha, de cuyo nombre no quiero acordarme\n",
      "En Un Lugar De La Mancha, De Cuyo Nombre No Quiero Acordarme\n",
      "['En', 'un', 'lugar', 'de', 'la', 'Mancha,', 'de', 'cuyo', 'nombre', 'no', 'quiero', 'acordarme']\n",
      "En un lugar de la Mancha; de cuyo nombre no quiero acordarme\n",
      "En un lugr de l Mnch, de cuyo nombre no quiero cordrme\n"
     ]
    }
   ],
   "source": [
    "frase = 'En un lugar de la Mancha, de cuyo nombre no quiero acordarme'\n",
    "mayusculas = frase.upper()\n",
    "print(mayusculas)\n",
    "minusculas = frase.lower()\n",
    "print(minusculas)\n",
    "primera_letra = frase.title()\n",
    "print(primera_letra)\n",
    "lista_string = frase.split()\n",
    "print(lista_string)\n",
    "frase_sust = frase.replace(',',';')\n",
    "print(frase_sust)\n",
    "frase_sin_a = frase.replace('a','')\n",
    "print(frase_sin_a)"
   ]
  },
  {
   "cell_type": "markdown",
   "id": "ebe32130-d960-4f2a-8bbf-205f7d17301f",
   "metadata": {},
   "source": [
    "## Ejercicio 3"
   ]
  },
  {
   "cell_type": "code",
   "execution_count": 25,
   "id": "df8131b6-fa0f-4637-bca4-18f35b8bb170",
   "metadata": {},
   "outputs": [
    {
     "name": "stdout",
     "output_type": "stream",
     "text": [
      "169\n",
      "[23, 54, 50]\n",
      "[23, 54, 10, 50]\n",
      "[23, 54, 10, 50, 5, 6, 7, 8]\n",
      "[5, 6, 7, 8, 10, 23, 50, 54]\n",
      "[54, 50, 23, 10, 8, 7, 6, 5]\n"
     ]
    }
   ],
   "source": [
    "lista = [23, 42, 54]\n",
    "lista.append(50)\n",
    "print(sum(lista))\n",
    "lista.pop(1)\n",
    "print(lista)\n",
    "lista.insert(2, 10)\n",
    "print(lista)\n",
    "lista2 = [5, 6, 7, 8]\n",
    "lista3 = lista + lista2\n",
    "print(lista3)\n",
    "lista3.sort()\n",
    "print(lista3)\n",
    "lista3.sort(reverse=True)\n",
    "print(lista3)"
   ]
  },
  {
   "cell_type": "code",
   "execution_count": null,
   "id": "28582d70-cf61-42b3-aa6d-1e6326ee4adf",
   "metadata": {},
   "outputs": [],
   "source": []
  }
 ],
 "metadata": {
  "kernelspec": {
   "display_name": "Python 3 (ipykernel)",
   "language": "python",
   "name": "python3"
  },
  "language_info": {
   "codemirror_mode": {
    "name": "ipython",
    "version": 3
   },
   "file_extension": ".py",
   "mimetype": "text/x-python",
   "name": "python",
   "nbconvert_exporter": "python",
   "pygments_lexer": "ipython3",
   "version": "3.12.9"
  }
 },
 "nbformat": 4,
 "nbformat_minor": 5
}
