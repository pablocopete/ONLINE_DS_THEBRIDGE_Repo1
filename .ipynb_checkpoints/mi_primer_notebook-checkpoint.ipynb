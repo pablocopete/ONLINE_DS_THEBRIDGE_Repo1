{
 "cells": [
  {
   "cell_type": "code",
   "execution_count": 3,
   "id": "795fcbe6-2488-4c0e-aee1-6ec8e5c56bb3",
   "metadata": {},
   "outputs": [
    {
     "name": "stdout",
     "output_type": "stream",
     "text": [
      "Hola mundo\n"
     ]
    }
   ],
   "source": [
    "print('Hola mundo')"
   ]
  },
  {
   "cell_type": "markdown",
   "id": "53d36100-1761-4fcd-970d-4c9d13f985d4",
   "metadata": {},
   "source": [
    "Hola Mundo"
   ]
  },
  {
   "cell_type": "code",
   "execution_count": null,
   "id": "1ae06fd2-cf90-4ecd-ab59-cd049d07ea79",
   "metadata": {},
   "outputs": [],
   "source": []
  }
 ],
 "metadata": {
  "kernelspec": {
   "display_name": "Python 3 (ipykernel)",
   "language": "python",
   "name": "python3"
  },
  "language_info": {
   "codemirror_mode": {
    "name": "ipython",
    "version": 3
   },
   "file_extension": ".py",
   "mimetype": "text/x-python",
   "name": "python",
   "nbconvert_exporter": "python",
   "pygments_lexer": "ipython3",
   "version": "3.12.9"
  }
 },
 "nbformat": 4,
 "nbformat_minor": 5
}
