{
 "cells": [
  {
   "cell_type": "markdown",
   "id": "fdf2f038-5fa9-46f1-9c1a-d2091e18b698",
   "metadata": {},
   "source": [
    "## Ejercicio 6: Listas\n",
    "\n",
    "* Manzanas\n",
    "* Plátanos\n",
    "* Uvas\n",
    "\n",
    "1. Árbol binario\n",
    "2. Random Forest\n",
    "3. Regresión Logística"
   ]
  },
  {
   "cell_type": "markdown",
   "id": "2beb7744-189f-4f24-9866-4245354c8b1f",
   "metadata": {},
   "source": [
    "## Ejercicio 7: Listas anidadas\n",
    "\n",
    "### Frutas y verduras\n",
    "1. Frutas:  \n",
    "    - **1.1. Ácidas**\n",
    "        - Limón\n",
    "        - Fresa\n",
    "        - Naranja\n",
    "    - **1.2 Dulces**\n",
    "      - Plátano\n",
    "      - Cereza\n",
    "      - Melón\n",
    "2. Verduras:\n",
    "   - **2.1. Hoja**\n",
    "       - Acelga\n",
    "       - Espinaca\n",
    "       - Lechuga\n",
    "    - **2.2. Fruto**\n",
    "       - Berenjena\n",
    "       - Pepino\n",
    "       - Tomate"
   ]
  },
  {
   "cell_type": "markdown",
   "id": "6d3b8451-dd76-438a-8317-8088f73056b3",
   "metadata": {},
   "source": [
    "## Ejercicio 8: Enlaces e imágenes\n",
    "\n",
    "[enlace a TheBridge](https://thebridge.tech/)\n",
    "\n",
    "<img src='./download.png'> </img>"
   ]
  },
  {
   "cell_type": "markdown",
   "id": "8011b171-1389-4043-9bac-dd5fca460228",
   "metadata": {},
   "source": [
    "## Ejercicio 9: Líneas Horizontales y Bloques de código\n",
    "\n",
    "---\n",
    "```Python\n",
    "print('Hola Mundo')\n",
    "```\n",
    "***"
   ]
  },
  {
   "cell_type": "code",
   "execution_count": null,
   "id": "0135a3ba-feeb-44c2-9970-9b03c95efd5a",
   "metadata": {},
   "outputs": [],
   "source": []
  }
 ],
 "metadata": {
  "kernelspec": {
   "display_name": "Python 3 (ipykernel)",
   "language": "python",
   "name": "python3"
  },
  "language_info": {
   "codemirror_mode": {
    "name": "ipython",
    "version": 3
   },
   "file_extension": ".py",
   "mimetype": "text/x-python",
   "name": "python",
   "nbconvert_exporter": "python",
   "pygments_lexer": "ipython3",
   "version": "3.12.9"
  }
 },
 "nbformat": 4,
 "nbformat_minor": 5
}
