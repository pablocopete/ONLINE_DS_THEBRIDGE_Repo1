{
 "cells": [
  {
   "cell_type": "markdown",
   "id": "0536dc01-c69f-4f04-abb0-db4c55f28c11",
   "metadata": {},
   "source": [
    "# Operaciones matemáticas, comparación y booleanas"
   ]
  },
  {
   "cell_type": "markdown",
   "id": "a59ad701-61ab-47fb-8ef4-ee5e28a42588",
   "metadata": {},
   "source": [
    "# Ejercicio 1"
   ]
  },
  {
   "cell_type": "code",
   "execution_count": 1,
   "id": "1686cf37-ccce-4612-b434-f8bfee722cab",
   "metadata": {},
   "outputs": [],
   "source": [
    "A = 4\n",
    "B = 'text'\n",
    "C = 4.1"
   ]
  },
  {
   "cell_type": "code",
   "execution_count": 2,
   "id": "038606e4-caf0-4a71-b4f5-a6f1f77504dd",
   "metadata": {},
   "outputs": [
    {
     "name": "stdout",
     "output_type": "stream",
     "text": [
      "False\n",
      "True\n",
      "False\n",
      "False\n",
      "True\n"
     ]
    }
   ],
   "source": [
    "print(A == B)\n",
    "print(A != C)\n",
    "print(A > C)\n",
    "print(C <= A)\n",
    "print (B != C)"
   ]
  },
  {
   "cell_type": "markdown",
   "id": "9ec63b3f-fa89-4fa3-a38b-112cef4488bb",
   "metadata": {},
   "source": [
    "# Ejercicio 2"
   ]
  },
  {
   "cell_type": "code",
   "execution_count": 4,
   "id": "8a3bfc62-9474-436d-a8b0-a2bd2bee1841",
   "metadata": {},
   "outputs": [
    {
     "name": "stdin",
     "output_type": "stream",
     "text": [
      "Dime el primer input 3\n",
      "Dime el segundo input 2\n"
     ]
    },
    {
     "name": "stdout",
     "output_type": "stream",
     "text": [
      "Los inputs son distintos\n"
     ]
    }
   ],
   "source": [
    "input_1 = input('Dime el primer input')\n",
    "input_2 = input('Dime el segundo input')\n",
    "\n",
    "if input_1 == input_2:\n",
    "    print('Ambos inputs son iguales: ')\n",
    "else:\n",
    "    print('Los inputs son distintos')"
   ]
  },
  {
   "cell_type": "markdown",
   "id": "1001eb51-19f2-46d4-8aa1-c434d2d302b4",
   "metadata": {},
   "source": [
    "## Ejercicio 3"
   ]
  },
  {
   "cell_type": "code",
   "execution_count": 8,
   "id": "70e14292-8618-43c5-ab74-cec980a39a0b",
   "metadata": {},
   "outputs": [
    {
     "name": "stdin",
     "output_type": "stream",
     "text": [
      "Dime el primer input 10\n",
      "Dime el segundo input 20\n",
      "Dime el tercer input 10\n"
     ]
    },
    {
     "name": "stdout",
     "output_type": "stream",
     "text": [
      "Dos de los inputs son iguales\n"
     ]
    }
   ],
   "source": [
    "input_1 = input('Dime el primer input')\n",
    "input_2 = input('Dime el segundo input')\n",
    "input_3 = input('Dime el tercer input')\n",
    "\n",
    "if input_1 == input_2 and input_1 == input_3:\n",
    "    print('Todos los inputs son iguales: ')\n",
    "elif (input_1 == input_2) or (input_1 == input_3) or (input_2 == input_3):\n",
    "    print('Dos de los inputs son iguales')\n",
    "else:\n",
    "    print('Los inputs son distintos')"
   ]
  },
  {
   "cell_type": "markdown",
   "id": "cd1c9518-68b9-40e0-97c0-bd64add4ad6f",
   "metadata": {},
   "source": [
    "## Ejercicio 4"
   ]
  },
  {
   "cell_type": "markdown",
   "id": "4d856a9b-0f56-439c-859b-0fe72f469edb",
   "metadata": {},
   "source": [
    "1. False\n",
    "2. False\n",
    "3. False\n",
    "4. False"
   ]
  },
  {
   "cell_type": "code",
   "execution_count": 11,
   "id": "a2ee4c4c-df3e-4285-9322-5ba6ba08e647",
   "metadata": {},
   "outputs": [
    {
     "name": "stdout",
     "output_type": "stream",
     "text": [
      "False False False False\n"
     ]
    }
   ],
   "source": [
    "print(True and True and False, \\\n",
    "not ((True or False) and (True or False)), \\\n",
    "(False or False or False or True) and False, \\\n",
    "not False and True and not True)"
   ]
  },
  {
   "cell_type": "code",
   "execution_count": null,
   "id": "d4454acf-ff47-4fd5-8a6d-cb63c1fecb31",
   "metadata": {},
   "outputs": [],
   "source": []
  }
 ],
 "metadata": {
  "kernelspec": {
   "display_name": "Python 3 (ipykernel)",
   "language": "python",
   "name": "python3"
  },
  "language_info": {
   "codemirror_mode": {
    "name": "ipython",
    "version": 3
   },
   "file_extension": ".py",
   "mimetype": "text/x-python",
   "name": "python",
   "nbconvert_exporter": "python",
   "pygments_lexer": "ipython3",
   "version": "3.12.9"
  }
 },
 "nbformat": 4,
 "nbformat_minor": 5
}
