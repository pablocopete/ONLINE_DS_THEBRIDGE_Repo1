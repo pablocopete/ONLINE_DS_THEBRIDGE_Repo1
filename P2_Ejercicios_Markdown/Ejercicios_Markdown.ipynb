{
 "cells": [
  {
   "cell_type": "markdown",
   "id": "f085869d-0ce7-4f0d-ab43-4d654296b5eb",
   "metadata": {},
   "source": [
    "## Ejercicio 1: Cabeceras\n",
    "\n",
    "# Ciencia de datos\n",
    "\n",
    "## Introducción\n",
    "\n",
    "### Herramientas"
   ]
  },
  {
   "cell_type": "markdown",
   "id": "f3259f12-45ce-4df0-bc80-e67ffe615440",
   "metadata": {},
   "source": [
    "---\n",
    "## Ejercicio 2: Estilos de texto\n",
    "\n",
    "Escribe una frase que contenga las palabras **Markdown**, *Jupyter* y ***Python***."
   ]
  },
  {
   "cell_type": "markdown",
   "id": "86e97822-6e92-496f-8d4d-4ab1f7ad83fd",
   "metadata": {},
   "source": [
    "---\n",
    "# Ejercicio 3: Resaltados y HTML\n",
    "\n",
    "`resaltado`\n",
    "\n",
    "<mark>reslatado</mark>\n",
    "\n",
    "<font color='blue'> color </font>"
   ]
  },
  {
   "cell_type": "markdown",
   "id": "0cb47fa8-bd01-4153-8a48-438ae4fc2ea3",
   "metadata": {},
   "source": [
    "---\n",
    "# Ejercicio 4: Citas\n",
    "\n",
    "> La Ciencia de Datos es el petróleo del siglo XXI\n",
    "> > La Ciencia de Datos es el petróleo del siglo XXI"
   ]
  },
  {
   "cell_type": "markdown",
   "id": "10eae247-d883-4d33-8478-e60b6a9f300b",
   "metadata": {},
   "source": [
    "---\n",
    "# Ejercicio 5: Combinando todo\n",
    "\n",
    "## Curso de Markdown\n",
    "\n",
    "Una frase con la palabra **importante**\n",
    "\n",
    "> Aprender es crecer\n",
    "\n",
    "<font color='green'> *ejemplo* </font>"
   ]
  }
 ],
 "metadata": {
  "kernelspec": {
   "display_name": "Python 3 (ipykernel)",
   "language": "python",
   "name": "python3"
  },
  "language_info": {
   "codemirror_mode": {
    "name": "ipython",
    "version": 3
   },
   "file_extension": ".py",
   "mimetype": "text/x-python",
   "name": "python",
   "nbconvert_exporter": "python",
   "pygments_lexer": "ipython3",
   "version": "3.12.9"
  }
 },
 "nbformat": 4,
 "nbformat_minor": 5
}
