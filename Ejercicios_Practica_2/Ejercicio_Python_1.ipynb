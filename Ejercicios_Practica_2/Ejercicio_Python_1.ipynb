{
 "cells": [
  {
   "cell_type": "markdown",
   "id": "9cba267d-fd6b-4a26-8f6b-b7350ed6807b",
   "metadata": {},
   "source": [
    "# Tipos y conversión de tipos"
   ]
  },
  {
   "cell_type": "markdown",
   "id": "3f662f8d-4082-479c-8486-20d241f9532e",
   "metadata": {},
   "source": [
    "## Ejercicio 1"
   ]
  },
  {
   "cell_type": "code",
   "execution_count": 2,
   "id": "c296ab2a-7014-41b5-8abb-3c9c76933610",
   "metadata": {},
   "outputs": [
    {
     "name": "stdout",
     "output_type": "stream",
     "text": [
      "20.0\n",
      "<class 'float'>\n"
     ]
    }
   ],
   "source": [
    "num_int = 10\n",
    "num_float = 10.0\n",
    "num_suma = num_int + num_float\n",
    "print(num_suma)\n",
    "print(type(num_suma))\n",
    "del num_int\n",
    "del num_float"
   ]
  },
  {
   "cell_type": "markdown",
   "id": "e517734d-4123-4789-b480-6e1a73828550",
   "metadata": {},
   "source": [
    "## Ejercicio 2"
   ]
  },
  {
   "cell_type": "code",
   "execution_count": 6,
   "id": "91348c62-23be-4328-b55c-dbaa57e9ffd0",
   "metadata": {},
   "outputs": [
    {
     "name": "stdin",
     "output_type": "stream",
     "text": [
      "Ingrese el ángulo en grados 10\n"
     ]
    },
    {
     "name": "stdout",
     "output_type": "stream",
     "text": [
      "Ángulo en radianes: 0.17453292519943295\n"
     ]
    }
   ],
   "source": [
    "import math\n",
    "grados = input('Ingrese el ángulo en grados')\n",
    "grados = float(grados)\n",
    "radianes = grados * (2 * math.pi)/360\n",
    "print(f'Ángulo en radianes: {radianes}')"
   ]
  },
  {
   "cell_type": "markdown",
   "id": "d35f480f-ef65-41fd-b9f8-81ac1e6fcfda",
   "metadata": {},
   "source": [
    "## Ejercicio 3"
   ]
  },
  {
   "cell_type": "code",
   "execution_count": 8,
   "id": "0bfd1318-e556-47d2-866d-f9e07c16b3c4",
   "metadata": {},
   "outputs": [
    {
     "name": "stdin",
     "output_type": "stream",
     "text": [
      "Ingrese la base del paralelogramo:  10\n",
      "Ingrese la altura del paralelogramo:  20\n"
     ]
    },
    {
     "name": "stdout",
     "output_type": "stream",
     "text": [
      "El área es 200.0 en la misma unidad que has introducido los datos\n"
     ]
    }
   ],
   "source": [
    "# Area paralelogramo\n",
    "base = input('Ingrese la base del paralelogramo: ')\n",
    "altura = input('Ingrese la altura del paralelogramo: ')\n",
    "base, altura = float(base), float(altura)\n",
    "area = base * altura\n",
    "print('El área es %s en la misma unidad que has introducido los datos' %area)"
   ]
  },
  {
   "cell_type": "markdown",
   "id": "cc3a4d1e-61f1-4bfe-9a4a-8e67192eb1e5",
   "metadata": {},
   "source": [
    "## Ejercicio 4"
   ]
  },
  {
   "cell_type": "code",
   "execution_count": 9,
   "id": "6e0cdfa1-9009-456f-acdc-4eee3f381308",
   "metadata": {},
   "outputs": [
    {
     "name": "stdin",
     "output_type": "stream",
     "text": [
      "Ingrese la base del paralelogramo:  10,5\n",
      "Ingrese la altura del paralelogramo:  41,2\n"
     ]
    },
    {
     "name": "stdout",
     "output_type": "stream",
     "text": [
      "El área es 432.6 en la misma unidad que has introducido los datos\n"
     ]
    }
   ],
   "source": [
    "# Area paralelogramo\n",
    "base = input('Ingrese la base del paralelogramo: ')\n",
    "altura = input('Ingrese la altura del paralelogramo: ')\n",
    "base = base.replace(',', '.')\n",
    "altura = altura.replace(',', '.')\n",
    "base, altura = float(base), float(altura)\n",
    "area = base * altura\n",
    "print('El área es %s en la misma unidad que has introducido los datos' %area)"
   ]
  },
  {
   "cell_type": "markdown",
   "id": "24fad675-1510-4e24-9d0f-df06518b2ccd",
   "metadata": {},
   "source": [
    "## Ejercicio 5"
   ]
  },
  {
   "cell_type": "code",
   "execution_count": 12,
   "id": "057e3981-799c-432b-bda6-1c65123864a5",
   "metadata": {},
   "outputs": [
    {
     "name": "stdin",
     "output_type": "stream",
     "text": [
      "¿Cuál es tu nombre? Pablo\n",
      "¿Cuál es tu edad? 23\n"
     ]
    },
    {
     "name": "stdout",
     "output_type": "stream",
     "text": [
      "Pablo, naciste en el año 2002.\n"
     ]
    }
   ],
   "source": [
    "nombre = input('¿Cuál es tu nombre?')\n",
    "edad = int(input('¿Cuál es tu edad?'))\n",
    "anyo_actual = 2025\n",
    "anyo_nacimiento = anyo_actual - edad\n",
    "\n",
    "print(f'{nombre}, naciste en el año {anyo_nacimiento}.')"
   ]
  },
  {
   "cell_type": "code",
   "execution_count": null,
   "id": "de90b5a4-cfb4-4955-bc31-d423c119efcf",
   "metadata": {},
   "outputs": [],
   "source": []
  }
 ],
 "metadata": {
  "kernelspec": {
   "display_name": "Python 3 (ipykernel)",
   "language": "python",
   "name": "python3"
  },
  "language_info": {
   "codemirror_mode": {
    "name": "ipython",
    "version": 3
   },
   "file_extension": ".py",
   "mimetype": "text/x-python",
   "name": "python",
   "nbconvert_exporter": "python",
   "pygments_lexer": "ipython3",
   "version": "3.12.9"
  }
 },
 "nbformat": 4,
 "nbformat_minor": 5
}
