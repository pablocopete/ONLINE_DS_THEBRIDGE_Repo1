{
 "cells": [
  {
   "cell_type": "markdown",
   "id": "d6c93b96-6023-44e2-a4bf-4b32a1dfab06",
   "metadata": {},
   "source": [
    "# Ejercicio Clases y Objetos"
   ]
  },
  {
   "cell_type": "markdown",
   "id": "edbacc83-f782-4aeb-8533-020bd9902f37",
   "metadata": {},
   "source": [
    "## Ejercicio 1"
   ]
  },
  {
   "cell_type": "code",
   "execution_count": 36,
   "id": "872448a5-8480-41c9-8fa1-f2f72f736c95",
   "metadata": {},
   "outputs": [],
   "source": [
    "class Tienda:\n",
    "\n",
    "    \"\"\"\n",
    "    Esta clase simula una tienda, cuenta con los campos tipo, nombre, dirección, número de \n",
    "    empleados, un booleano para comprobar si está abierta y un lista de floats con las ventas\n",
    "    de los últimos 3 meses\n",
    "\n",
    "    Incluye métodos para calcular las ventas totales, la media de ventas por mes y empleado,\n",
    "    un método para devolver el nombre y la dirección, otro para las ventas del último mes y otro\n",
    "    para calcular las ventas teniendo en cuenta una posible inversión en marketing\n",
    "\n",
    "    \"\"\"\n",
    "\n",
    "    def __init__(self, nombre, direccion, n_empleados, ventas_3_meses, tipo='Electrodomésticos', abierta=True):\n",
    "        self.tipo = tipo\n",
    "        self.abierta = abierta\n",
    "        self.nombre = nombre\n",
    "        self.direccion = direccion\n",
    "        self. n_empleados = n_empleados\n",
    "        self.ventas_3_meses = ventas_3_meses\n",
    "\n",
    "    def ventas_totales(self):\n",
    "        total = sum(self.ventas_3_meses)\n",
    "        return total\n",
    "\n",
    "    def media_ventas(self):\n",
    "        media = sum(self.ventas_3_meses)/(3 * self.n_empleados)\n",
    "        return media\n",
    "\n",
    "    def nombre_direccion(self):\n",
    "        texto = self.nombre + ', ' + self.direccion\n",
    "        return texto\n",
    "\n",
    "    def ventas_ultimo_mes(self):\n",
    "        return self.ventas_3_meses[-1]\n",
    "\n",
    "    def proyeccion_ventas(self, inversion):\n",
    "\n",
    "        for i in range(len(self.ventas_3_meses)):\n",
    "            if inversion < 1000:\n",
    "                self.ventas_3_meses[i] = 1.2 * self.ventas_3_meses[i]\n",
    "            else:\n",
    "                self.ventas_3_meses[i] = 1.5 * self.ventas_3_meses[i]    \n",
    "\n",
    "        return self.ventas_3_meses"
   ]
  },
  {
   "cell_type": "code",
   "execution_count": 47,
   "id": "9b019f99-f4bd-4c29-bb28-43d6b0f750d4",
   "metadata": {},
   "outputs": [],
   "source": [
    "tienda1 = Tienda('Druni', 'C/ Clara Campoamor 4', 5, [120, 580, 690])\n",
    "tienda2 = Tienda('Jack & Jones', 'Avenida Mediterráneo, 5', 7, [1200, 840, 9000])\n",
    "tienda3 = Tienda('Game', 'Avenida Beverly Hills, 8', 2, [20, 30, 50])\n",
    "tiendas = [tienda1, tienda2, tienda3]"
   ]
  },
  {
   "cell_type": "code",
   "execution_count": 48,
   "id": "660e978e-e4ad-4f1e-9de1-989300e2dc20",
   "metadata": {},
   "outputs": [
    {
     "name": "stdout",
     "output_type": "stream",
     "text": [
      "{'tipo': 'Electrodomésticos', 'abierta': True, 'nombre': 'Druni', 'direccion': 'C/ Clara Campoamor 4', 'n_empleados': 5, 'ventas_3_meses': [120, 580, 690]}\n",
      "Ventas totales: 1390\n",
      "Media ventas: 92.66666666666667\n",
      "Nombre y dirección: Druni, C/ Clara Campoamor 4\n",
      "Ventas último mes: 690\n",
      "Proyección ventas con marketing: [180.0, 870.0, 1035.0]\n"
     ]
    }
   ],
   "source": [
    "# Comprobar todo lo implementado\n",
    "\n",
    "#Atributos\n",
    "print(tienda1.__dict__)\n",
    "\n",
    "ventas_totales = tienda1.ventas_totales()\n",
    "print(f'Ventas totales: {ventas_totales}')\n",
    "\n",
    "media_ventas = tienda1.media_ventas()\n",
    "print(f'Media ventas: {media_ventas}')\n",
    "\n",
    "nombre_direccion = tienda1.nombre_direccion()\n",
    "print(f'Nombre y dirección: {nombre_direccion}')\n",
    "\n",
    "ventas_mes = tienda1.ventas_ultimo_mes()\n",
    "print(f'Ventas último mes: {ventas_mes}')\n",
    "\n",
    "proyeccion = tienda1.proyeccion_ventas(1500)\n",
    "print(f'Proyección ventas con marketing: {proyeccion}')"
   ]
  },
  {
   "cell_type": "code",
   "execution_count": 49,
   "id": "a9d1d388-8264-4316-b5b5-749e893a15e1",
   "metadata": {},
   "outputs": [
    {
     "name": "stdout",
     "output_type": "stream",
     "text": [
      "Ventas de todas las tiendas en el último mes: 10085.0\n"
     ]
    }
   ],
   "source": [
    "ventas_totales = 0\n",
    "for i in range(len(tiendas)):\n",
    "    ventas_totales += tiendas[i].ventas_ultimo_mes()\n",
    "\n",
    "print(f'Ventas de todas las tiendas en el último mes: {ventas_totales}')"
   ]
  },
  {
   "cell_type": "code",
   "execution_count": 46,
   "id": "fabe41f4-7df1-46f3-9a32-ee32c6ac78fa",
   "metadata": {},
   "outputs": [
    {
     "name": "stdout",
     "output_type": "stream",
     "text": [
      "Avenida Mediterráneo, 5\n",
      "Avenida Beverly Hills\n"
     ]
    }
   ],
   "source": [
    "for i in range(len(tiendas)):\n",
    "    try:\n",
    "        tiendas[i].direccion.index('Avenida')\n",
    "        print(tiendas[i].direccion)\n",
    "        \n",
    "    except ValueError:\n",
    "        continue"
   ]
  },
  {
   "cell_type": "markdown",
   "id": "6ef4c4a1-52af-42b1-be06-2d052cd5f246",
   "metadata": {},
   "source": [
    "## Ejercicio 2"
   ]
  },
  {
   "cell_type": "code",
   "execution_count": 54,
   "id": "80808a37-69ea-4a12-8528-e5ecb6f0982b",
   "metadata": {},
   "outputs": [],
   "source": [
    "class Perro:\n",
    "\n",
    "    \"\"\"\n",
    "    Clase perro, tiene los siguientes atributos:\n",
    "    -Patas=4, orejas=4, ojos=2, velocidad=0 por defecto\n",
    "    -Pelo y owner(bool) asignados como 'marrón' y False por defecto pero se pueden modificar al\n",
    "    instanciar\n",
    "    -Raza, debe asignarse al inicializar\n",
    "\n",
    "    Cuenta con métodos para hacer que aumente su velocidad, modificar la velocidad a 0 y\n",
    "    para que dada una frase la imprima por pantalla tras haber dicho 'GUAU!'\n",
    "\n",
    "    \"\"\"\n",
    "\n",
    "    def __init__(self, raza, pelo='marrón', owner=False):\n",
    "        self.patas = 4\n",
    "        self.orejas = 2\n",
    "        self.ojos = 2\n",
    "        self.velocidad = 0\n",
    "        self.raza = raza\n",
    "        self.pelo = pelo\n",
    "        self.owner = owner\n",
    "\n",
    "    def andar(self, aumento_velocidad):\n",
    "        self.velocidad += aumento_velocidad\n",
    "\n",
    "    def parar(self):\n",
    "        self.velocidad = 0\n",
    "\n",
    "    def ladrar(self, frase):\n",
    "        self.parar()\n",
    "        frase = 'GUAU!' + frase\n",
    "        return frase   "
   ]
  },
  {
   "cell_type": "code",
   "execution_count": 56,
   "id": "f44d0f6d-7fe1-41d8-a869-56665ef6b573",
   "metadata": {},
   "outputs": [
    {
     "name": "stdout",
     "output_type": "stream",
     "text": [
      "{'patas': 4, 'orejas': 2, 'ojos': 2, 'velocidad': 0, 'raza': 'yorkshire', 'pelo': 'marrón', 'owner': False}\n",
      "1.2\n",
      "0\n"
     ]
    },
    {
     "data": {
      "text/plain": [
       "'GUAU!El coche rojo'"
      ]
     },
     "execution_count": 56,
     "metadata": {},
     "output_type": "execute_result"
    }
   ],
   "source": [
    "perro1 = Perro('yorkshire')\n",
    "print(perro1.__dict__)\n",
    "\n",
    "# Andar\n",
    "perro1.andar(1.2)\n",
    "print(perro1.velocidad)\n",
    "\n",
    "# Parar\n",
    "perro1.parar()\n",
    "print(perro1.velocidad)\n",
    "\n",
    "# Ladrar\n",
    "perro1.ladrar('El coche rojo')"
   ]
  },
  {
   "cell_type": "code",
   "execution_count": null,
   "id": "6969eb5d-7278-4832-b3b9-60d922dee370",
   "metadata": {},
   "outputs": [],
   "source": []
  },
  {
   "cell_type": "code",
   "execution_count": null,
   "id": "dab00990-514a-4728-9606-4c246de0738b",
   "metadata": {},
   "outputs": [],
   "source": []
  }
 ],
 "metadata": {
  "kernelspec": {
   "display_name": "Python 3 (ipykernel)",
   "language": "python",
   "name": "python3"
  },
  "language_info": {
   "codemirror_mode": {
    "name": "ipython",
    "version": 3
   },
   "file_extension": ".py",
   "mimetype": "text/x-python",
   "name": "python",
   "nbconvert_exporter": "python",
   "pygments_lexer": "ipython3",
   "version": "3.12.9"
  }
 },
 "nbformat": 4,
 "nbformat_minor": 5
}
