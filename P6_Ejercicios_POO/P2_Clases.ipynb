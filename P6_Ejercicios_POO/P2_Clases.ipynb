{
 "cells": [
  {
   "cell_type": "code",
   "execution_count": 17,
   "id": "9c29edef-e03a-4f53-a791-383556c56ecc",
   "metadata": {},
   "outputs": [],
   "source": [
    "class Coche:\n",
    "    puertas = 4\n",
    "    ruedas =4\n",
    "\n",
    "    def __init__(self, marca_coche):\n",
    "        self.marca = marca_coche\n",
    "\n",
    "    pass"
   ]
  },
  {
   "cell_type": "code",
   "execution_count": 19,
   "id": "1f441a31-df7e-4e7e-a02f-5add2b6d88dc",
   "metadata": {},
   "outputs": [
    {
     "name": "stdout",
     "output_type": "stream",
     "text": [
      "Mercedes\n"
     ]
    }
   ],
   "source": [
    "coche1 = Coche('Mercedes')\n",
    "type(coche1)\n",
    "print(coche1.marca)"
   ]
  },
  {
   "cell_type": "code",
   "execution_count": null,
   "id": "e8568a05-57f8-4d0c-b741-e26591a139d9",
   "metadata": {},
   "outputs": [],
   "source": []
  }
 ],
 "metadata": {
  "kernelspec": {
   "display_name": "Python 3 (ipykernel)",
   "language": "python",
   "name": "python3"
  },
  "language_info": {
   "codemirror_mode": {
    "name": "ipython",
    "version": 3
   },
   "file_extension": ".py",
   "mimetype": "text/x-python",
   "name": "python",
   "nbconvert_exporter": "python",
   "pygments_lexer": "ipython3",
   "version": "3.12.9"
  }
 },
 "nbformat": 4,
 "nbformat_minor": 5
}
